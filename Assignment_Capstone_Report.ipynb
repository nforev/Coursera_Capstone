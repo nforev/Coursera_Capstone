{
 "cells": [
  {
   "cell_type": "markdown",
   "metadata": {},
   "source": [
    "# Find the good place for new Coffee shop"
   ]
  },
  {
   "cell_type": "markdown",
   "metadata": {},
   "source": [
    "## 1. Introduction"
   ]
  },
  {
   "cell_type": "markdown",
   "metadata": {},
   "source": [
    "### 1.1 Problem"
   ]
  },
  {
   "cell_type": "markdown",
   "metadata": {},
   "source": [
    "A coffee company would like to start its own chain shop. The company would like to start the new coffee shop with top 5 cities across the world, as there will be more high income customer who will be more willing to try new products. "
   ]
  },
  {
   "cell_type": "markdown",
   "metadata": {},
   "source": [
    "However, it is difficult to compete with the current top brand like STARBUCKS , COSTA , etc. The Company would like to know which areas of the city could be a good start place , the places have the customers and less competitors."
   ]
  },
  {
   "cell_type": "markdown",
   "metadata": {},
   "source": [
    "### 2. Data acquisition and Cleaning"
   ]
  },
  {
   "cell_type": "markdown",
   "metadata": {},
   "source": [
    "#### City Economy Data"
   ]
  },
  {
   "cell_type": "markdown",
   "metadata": {},
   "source": [
    "Data Source: https://stats.oecd.org/\n",
    "\n",
    "Will use the Top 5 total GDP cities\n",
    "Will aslo use the top Top 5 GDP per capita cities"
   ]
  },
  {
   "cell_type": "markdown",
   "metadata": {},
   "source": [
    "**Data Cleaning:**\n",
    "1. I will use the data from 2018 , choose the rows in 2018.\n",
    "2. Choose the Total GDP \n",
    "3. Some value may impact the result get from geopy . For example, \"New York(Greater)\" will end up with a place in UK. Keep only the City name.\n",
    "4. The Country name has a code after the shortname, remove the number from the Country name.\n",
    "5. Join the cityname and the country name for better result from geopy."
   ]
  },
  {
   "cell_type": "markdown",
   "metadata": {},
   "source": [
    "#### City Geo Data"
   ]
  },
  {
   "cell_type": "markdown",
   "metadata": {},
   "source": [
    "Data Source: geopy api"
   ]
  },
  {
   "cell_type": "markdown",
   "metadata": {},
   "source": [
    "#### City Venues Data"
   ]
  },
  {
   "cell_type": "markdown",
   "metadata": {},
   "source": [
    "Data Source: FourSquare"
   ]
  },
  {
   "cell_type": "markdown",
   "metadata": {},
   "source": [
    "**Data Cleaning**\n",
    "Will use the data and create the one hot vector."
   ]
  },
  {
   "cell_type": "markdown",
   "metadata": {},
   "source": [
    "## Method: How the data will be used"
   ]
  },
  {
   "cell_type": "markdown",
   "metadata": {},
   "source": [
    "1. With the Economy Data to find the top 5 cities with total GDP , and top 5 cities with GDP per capita\n",
    "\n",
    "2. Geopy API will provide the City boundingbox. With this box, will generate 100 points and get the venues according these points.\n",
    "\n",
    "3. With the 100 points in each city , retrieve the venues data from FourSquare API.\n",
    "\n",
    "4. Use Clustering method to cluster all the geo location point , find the locations which has most coffee shop and consider the points in the same cluster but with less coffee shops."
   ]
  },
  {
   "cell_type": "markdown",
   "metadata": {},
   "source": [
    "#### About how to retrieve the venues data of 100 points"
   ]
  },
  {
   "cell_type": "markdown",
   "metadata": {},
   "source": [
    "As each city will have very different size bounding box, use the same radius when exploring the venues will cause huge missing area and overlap area.\n",
    "\n",
    "To avoid this , I will use the mean value of the sum of length and width. Like the figure below."
   ]
  },
  {
   "cell_type": "markdown",
   "metadata": {},
   "source": [
    "![Radius Calculation](https://mybucket-zheng-20191223.s3.ap-northeast-2.amazonaws.com/radius.PNG)"
   ]
  },
  {
   "cell_type": "markdown",
   "metadata": {},
   "source": [
    "## 4. Conclusions"
   ]
  },
  {
   "cell_type": "markdown",
   "metadata": {},
   "source": [
    "In this study , I try to use the venues as the feature of a geo point. Retrieve almost all the venues from a city. With these venues feature data , I use Kmeans cluster algorithm to cluster all the data points. As using the unsupervised ML method , I do not know i"
   ]
  }
 ],
 "metadata": {
  "kernelspec": {
   "display_name": "Python",
   "language": "python",
   "name": "conda-env-python-py"
  },
  "language_info": {
   "codemirror_mode": {
    "name": "ipython",
    "version": 3
   },
   "file_extension": ".py",
   "mimetype": "text/x-python",
   "name": "python",
   "nbconvert_exporter": "python",
   "pygments_lexer": "ipython3",
   "version": "3.6.10"
  }
 },
 "nbformat": 4,
 "nbformat_minor": 4
}

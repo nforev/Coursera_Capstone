{
 "cells": [
  {
   "cell_type": "markdown",
   "metadata": {},
   "source": [
    "# Geo part"
   ]
  },
  {
   "cell_type": "code",
   "execution_count": 35,
   "metadata": {},
   "outputs": [],
   "source": [
    "import json, logging\n",
    "from geopy.geocoders import Nominatim\n",
    "\n",
    "def seperator(a,b):\n",
    "    c = (b - a)/10\n",
    "    return [round(a,7),round(a+c,7),round(a+c*2,7),round(a+c*3,7),round(a+c*4,7),round(a+c*5,7),round(a+c*6,7),round(a+c*7,7),round(a+c*8,7),round(b,7)]\n",
    "\n",
    "def geo_point_creator(city):\n",
    "    geolocator = Nominatim(user_agent=\"ny_explorer\")\n",
    "    location = geolocator.geocode(city)\n",
    "    lat_list = seperator(float(location.raw['boundingbox'][0]),float(location.raw['boundingbox'][1]))\n",
    "    lon_list = seperator(float(location.raw['boundingbox'][2]),float(location.raw['boundingbox'][3]))\n",
    "    point_list = []\n",
    "    for lat in lat_list:\n",
    "        for lon in lon_list:\n",
    "            point_list.append([lat,lon])\n",
    "    city_points[city] = point_list"
   ]
  },
  {
   "cell_type": "markdown",
   "metadata": {},
   "source": [
    "# Data Cleaning"
   ]
  },
  {
   "cell_type": "code",
   "execution_count": 130,
   "metadata": {},
   "outputs": [],
   "source": [
    "import pandas as pd\n",
    "import numpy as np\n",
    "import time\n",
    "import requests\n",
    "\n",
    "df = pd.read_csv('CITIES_12062020101058739.csv')"
   ]
  },
  {
   "cell_type": "code",
   "execution_count": 131,
   "metadata": {},
   "outputs": [],
   "source": [
    "gdp_2018 = df[df['Year']==2018]\n",
    "top5_gdpt_city = gdp_2018[gdp_2018['VAR']=='GDP_REAL_PPP'].sort_values(by='Value',ascending=False).head()\n",
    "gdpt = top5_gdpt_city['Metropolitan areas'].to_list()"
   ]
  },
  {
   "cell_type": "code",
   "execution_count": 132,
   "metadata": {},
   "outputs": [],
   "source": [
    "top5_gdpp_city = gdp_2018[gdp_2018['VAR']=='GDP_PC_REAL_PPP'].sort_values(by='Value',ascending=False).head()\n",
    "gdpp = top5_gdpp_city['Metropolitan areas'].to_list()"
   ]
  },
  {
   "cell_type": "code",
   "execution_count": 6,
   "metadata": {},
   "outputs": [
    {
     "name": "stdout",
     "output_type": "stream",
     "text": [
      "Your credentails:\n",
      "CLIENT_ID: GBHOGHOE3DL1WYFOB4W5WI5SM1PLH1MDY4WN3O12SFGOVDUU\n",
      "CLIENT_SECRET:AI25GODMBYEC331GD1VSY4Y3MRBP3SKR15N2YC01VKLSR0U4\n"
     ]
    }
   ],
   "source": [
    "CLIENT_ID = 'GBHOGHOE3DL1WYFOB4W5WI5SM1PLH1MDY4WN3O12SFGOVDUU' # your Foursquare ID\n",
    "CLIENT_SECRET = 'AI25GODMBYEC331GD1VSY4Y3MRBP3SKR15N2YC01VKLSR0U4' # your Foursquare Secret\n",
    "VERSION = '20180605' # Foursquare API version\n",
    "\n",
    "print('Your credentails:')\n",
    "print('CLIENT_ID: ' + CLIENT_ID)\n",
    "print('CLIENT_SECRET:' + CLIENT_SECRET)\n",
    "LIMIT = 100"
   ]
  },
  {
   "cell_type": "code",
   "execution_count": 126,
   "metadata": {},
   "outputs": [],
   "source": [
    "def getNearbyVenues(name, latitudes, longitudes, radius=5000):\n",
    "    \n",
    "    venues_list=[]\n",
    "    for lat, lng in zip(latitudes, longitudes):\n",
    "        print('{},{}'.format(lat,lng))\n",
    "            \n",
    "        # create the API request URL\n",
    "        url = 'https://api.foursquare.com/v2/venues/explore?&client_id={}&client_secret={}&v={}&ll={},{}&radius={}&limit={}'.format(\n",
    "            CLIENT_ID, \n",
    "            CLIENT_SECRET, \n",
    "            VERSION, \n",
    "            lat, \n",
    "            lng, \n",
    "            radius, \n",
    "            LIMIT)\n",
    "            \n",
    "        # make the GET request\n",
    "        results = requests.get(url).json()[\"response\"]['groups'][0]['items']\n",
    "        \n",
    "        # return only relevant information for each nearby venue\n",
    "        venues_list.append([(\n",
    "            name,\n",
    "            lat, \n",
    "            lng, \n",
    "            v['venue']['name'], \n",
    "            v['venue']['location']['lat'], \n",
    "            v['venue']['location']['lng'],  \n",
    "            v['venue']['categories'][0]['name']) for v in results])\n",
    "\n",
    "    nearby_venues = pd.DataFrame([item for venue_list in venues_list for item in venue_list])\n",
    "    nearby_venues.columns = ['City Name',\n",
    "                  'Latitude', \n",
    "                  'Longitude', \n",
    "                  'Venue', \n",
    "                  'Venue Latitude', \n",
    "                  'Venue Longitude', \n",
    "                  'Venue Category']\n",
    "    \n",
    "    return(nearby_venues)"
   ]
  },
  {
   "cell_type": "markdown",
   "metadata": {},
   "source": [
    "# Test Zone"
   ]
  },
  {
   "cell_type": "code",
   "execution_count": 127,
   "metadata": {},
   "outputs": [
    {
     "name": "stdout",
     "output_type": "stream",
     "text": [
      "40.477399,-74.25909\n",
      "40.477399,-74.2031991\n",
      "40.477399,-74.1473082\n",
      "40.477399,-74.0914173\n",
      "40.477399,-74.0355264\n"
     ]
    }
   ],
   "source": [
    "test_venues = getNearbyVenues(name='New York',latitudes=df2['lat'],longitudes=df2['lng'])"
   ]
  },
  {
   "cell_type": "code",
   "execution_count": 91,
   "metadata": {},
   "outputs": [],
   "source": [
    "df = pd.DataFrame(city_points['New York'],columns=['lat','lng'])"
   ]
  },
  {
   "cell_type": "code",
   "execution_count": 93,
   "metadata": {},
   "outputs": [
    {
     "data": {
      "text/html": [
       "<div>\n",
       "<style scoped>\n",
       "    .dataframe tbody tr th:only-of-type {\n",
       "        vertical-align: middle;\n",
       "    }\n",
       "\n",
       "    .dataframe tbody tr th {\n",
       "        vertical-align: top;\n",
       "    }\n",
       "\n",
       "    .dataframe thead th {\n",
       "        text-align: right;\n",
       "    }\n",
       "</style>\n",
       "<table border=\"1\" class=\"dataframe\">\n",
       "  <thead>\n",
       "    <tr style=\"text-align: right;\">\n",
       "      <th></th>\n",
       "      <th>lat</th>\n",
       "      <th>lng</th>\n",
       "    </tr>\n",
       "  </thead>\n",
       "  <tbody>\n",
       "    <tr>\n",
       "      <th>0</th>\n",
       "      <td>40.477399</td>\n",
       "      <td>-74.259090</td>\n",
       "    </tr>\n",
       "    <tr>\n",
       "      <th>1</th>\n",
       "      <td>40.477399</td>\n",
       "      <td>-74.203199</td>\n",
       "    </tr>\n",
       "    <tr>\n",
       "      <th>2</th>\n",
       "      <td>40.477399</td>\n",
       "      <td>-74.147308</td>\n",
       "    </tr>\n",
       "    <tr>\n",
       "      <th>3</th>\n",
       "      <td>40.477399</td>\n",
       "      <td>-74.091417</td>\n",
       "    </tr>\n",
       "    <tr>\n",
       "      <th>4</th>\n",
       "      <td>40.477399</td>\n",
       "      <td>-74.035526</td>\n",
       "    </tr>\n",
       "    <tr>\n",
       "      <th>...</th>\n",
       "      <td>...</td>\n",
       "      <td>...</td>\n",
       "    </tr>\n",
       "    <tr>\n",
       "      <th>95</th>\n",
       "      <td>40.916179</td>\n",
       "      <td>-73.979636</td>\n",
       "    </tr>\n",
       "    <tr>\n",
       "      <th>96</th>\n",
       "      <td>40.916179</td>\n",
       "      <td>-73.923744</td>\n",
       "    </tr>\n",
       "    <tr>\n",
       "      <th>97</th>\n",
       "      <td>40.916179</td>\n",
       "      <td>-73.867854</td>\n",
       "    </tr>\n",
       "    <tr>\n",
       "      <th>98</th>\n",
       "      <td>40.916179</td>\n",
       "      <td>-73.811963</td>\n",
       "    </tr>\n",
       "    <tr>\n",
       "      <th>99</th>\n",
       "      <td>40.916179</td>\n",
       "      <td>-73.700181</td>\n",
       "    </tr>\n",
       "  </tbody>\n",
       "</table>\n",
       "<p>100 rows × 2 columns</p>\n",
       "</div>"
      ],
      "text/plain": [
       "          lat        lng\n",
       "0   40.477399 -74.259090\n",
       "1   40.477399 -74.203199\n",
       "2   40.477399 -74.147308\n",
       "3   40.477399 -74.091417\n",
       "4   40.477399 -74.035526\n",
       "..        ...        ...\n",
       "95  40.916179 -73.979636\n",
       "96  40.916179 -73.923744\n",
       "97  40.916179 -73.867854\n",
       "98  40.916179 -73.811963\n",
       "99  40.916179 -73.700181\n",
       "\n",
       "[100 rows x 2 columns]"
      ]
     },
     "execution_count": 93,
     "metadata": {},
     "output_type": "execute_result"
    }
   ],
   "source": [
    "df2 = df.head()"
   ]
  },
  {
   "cell_type": "code",
   "execution_count": 128,
   "metadata": {},
   "outputs": [
    {
     "data": {
      "text/html": [
       "<div>\n",
       "<style scoped>\n",
       "    .dataframe tbody tr th:only-of-type {\n",
       "        vertical-align: middle;\n",
       "    }\n",
       "\n",
       "    .dataframe tbody tr th {\n",
       "        vertical-align: top;\n",
       "    }\n",
       "\n",
       "    .dataframe thead th {\n",
       "        text-align: right;\n",
       "    }\n",
       "</style>\n",
       "<table border=\"1\" class=\"dataframe\">\n",
       "  <thead>\n",
       "    <tr style=\"text-align: right;\">\n",
       "      <th></th>\n",
       "      <th>City Name</th>\n",
       "      <th>Latitude</th>\n",
       "      <th>Longitude</th>\n",
       "      <th>Venue</th>\n",
       "      <th>Venue Latitude</th>\n",
       "      <th>Venue Longitude</th>\n",
       "      <th>Venue Category</th>\n",
       "    </tr>\n",
       "  </thead>\n",
       "  <tbody>\n",
       "    <tr>\n",
       "      <th>0</th>\n",
       "      <td>New York</td>\n",
       "      <td>40.477399</td>\n",
       "      <td>-74.259090</td>\n",
       "      <td>Raritan Bay Waterfront Park</td>\n",
       "      <td>40.476497</td>\n",
       "      <td>-74.269338</td>\n",
       "      <td>Park</td>\n",
       "    </tr>\n",
       "    <tr>\n",
       "      <th>1</th>\n",
       "      <td>New York</td>\n",
       "      <td>40.477399</td>\n",
       "      <td>-74.259090</td>\n",
       "      <td>Fernandes Steakhouse 3</td>\n",
       "      <td>40.465149</td>\n",
       "      <td>-74.264378</td>\n",
       "      <td>Brazilian Restaurant</td>\n",
       "    </tr>\n",
       "    <tr>\n",
       "      <th>2</th>\n",
       "      <td>New York</td>\n",
       "      <td>40.477399</td>\n",
       "      <td>-74.259090</td>\n",
       "      <td>South Amboy YMCA</td>\n",
       "      <td>40.477545</td>\n",
       "      <td>-74.275680</td>\n",
       "      <td>Gym / Fitness Center</td>\n",
       "    </tr>\n",
       "    <tr>\n",
       "      <th>3</th>\n",
       "      <td>New York</td>\n",
       "      <td>40.477399</td>\n",
       "      <td>-74.259090</td>\n",
       "      <td>Sciortino's Harbor Lights</td>\n",
       "      <td>40.481881</td>\n",
       "      <td>-74.279224</td>\n",
       "      <td>Pizza Place</td>\n",
       "    </tr>\n",
       "    <tr>\n",
       "      <th>4</th>\n",
       "      <td>New York</td>\n",
       "      <td>40.477399</td>\n",
       "      <td>-74.259090</td>\n",
       "      <td>Blue Moon</td>\n",
       "      <td>40.482594</td>\n",
       "      <td>-74.279607</td>\n",
       "      <td>Bar</td>\n",
       "    </tr>\n",
       "    <tr>\n",
       "      <th>...</th>\n",
       "      <td>...</td>\n",
       "      <td>...</td>\n",
       "      <td>...</td>\n",
       "      <td>...</td>\n",
       "      <td>...</td>\n",
       "      <td>...</td>\n",
       "      <td>...</td>\n",
       "    </tr>\n",
       "    <tr>\n",
       "      <th>199</th>\n",
       "      <td>New York</td>\n",
       "      <td>40.477399</td>\n",
       "      <td>-74.035526</td>\n",
       "      <td>Observation Deck</td>\n",
       "      <td>40.471115</td>\n",
       "      <td>-74.005559</td>\n",
       "      <td>Scenic Lookout</td>\n",
       "    </tr>\n",
       "    <tr>\n",
       "      <th>200</th>\n",
       "      <td>New York</td>\n",
       "      <td>40.477399</td>\n",
       "      <td>-74.035526</td>\n",
       "      <td>Seastreak - Sandy Hook Dock</td>\n",
       "      <td>40.464688</td>\n",
       "      <td>-74.006465</td>\n",
       "      <td>Pier</td>\n",
       "    </tr>\n",
       "    <tr>\n",
       "      <th>201</th>\n",
       "      <td>New York</td>\n",
       "      <td>40.477399</td>\n",
       "      <td>-74.035526</td>\n",
       "      <td>Sandy Hook Nude Beach</td>\n",
       "      <td>40.459837</td>\n",
       "      <td>-73.988757</td>\n",
       "      <td>Nudist Beach</td>\n",
       "    </tr>\n",
       "    <tr>\n",
       "      <th>202</th>\n",
       "      <td>New York</td>\n",
       "      <td>40.477399</td>\n",
       "      <td>-74.035526</td>\n",
       "      <td>Sandy Hook Bay Side</td>\n",
       "      <td>40.448619</td>\n",
       "      <td>-73.999310</td>\n",
       "      <td>Beach</td>\n",
       "    </tr>\n",
       "    <tr>\n",
       "      <th>203</th>\n",
       "      <td>New York</td>\n",
       "      <td>40.477399</td>\n",
       "      <td>-74.035526</td>\n",
       "      <td>Horseshoe Cove - Sandy Hook</td>\n",
       "      <td>40.446918</td>\n",
       "      <td>-73.993370</td>\n",
       "      <td>Beach</td>\n",
       "    </tr>\n",
       "  </tbody>\n",
       "</table>\n",
       "<p>204 rows × 7 columns</p>\n",
       "</div>"
      ],
      "text/plain": [
       "    City Name   Latitude  Longitude                        Venue  \\\n",
       "0    New York  40.477399 -74.259090  Raritan Bay Waterfront Park   \n",
       "1    New York  40.477399 -74.259090       Fernandes Steakhouse 3   \n",
       "2    New York  40.477399 -74.259090             South Amboy YMCA   \n",
       "3    New York  40.477399 -74.259090    Sciortino's Harbor Lights   \n",
       "4    New York  40.477399 -74.259090                    Blue Moon   \n",
       "..        ...        ...        ...                          ...   \n",
       "199  New York  40.477399 -74.035526             Observation Deck   \n",
       "200  New York  40.477399 -74.035526  Seastreak - Sandy Hook Dock   \n",
       "201  New York  40.477399 -74.035526        Sandy Hook Nude Beach   \n",
       "202  New York  40.477399 -74.035526          Sandy Hook Bay Side   \n",
       "203  New York  40.477399 -74.035526  Horseshoe Cove - Sandy Hook   \n",
       "\n",
       "     Venue Latitude  Venue Longitude        Venue Category  \n",
       "0         40.476497       -74.269338                  Park  \n",
       "1         40.465149       -74.264378  Brazilian Restaurant  \n",
       "2         40.477545       -74.275680  Gym / Fitness Center  \n",
       "3         40.481881       -74.279224           Pizza Place  \n",
       "4         40.482594       -74.279607                   Bar  \n",
       "..              ...              ...                   ...  \n",
       "199       40.471115       -74.005559        Scenic Lookout  \n",
       "200       40.464688       -74.006465                  Pier  \n",
       "201       40.459837       -73.988757          Nudist Beach  \n",
       "202       40.448619       -73.999310                 Beach  \n",
       "203       40.446918       -73.993370                 Beach  \n",
       "\n",
       "[204 rows x 7 columns]"
      ]
     },
     "execution_count": 128,
     "metadata": {},
     "output_type": "execute_result"
    }
   ],
   "source": [
    "test_venues"
   ]
  },
  {
   "cell_type": "code",
   "execution_count": 71,
   "metadata": {},
   "outputs": [],
   "source": [
    "lat = 53.567411\t\n",
    "lng = -2.474144\n",
    "radius = 500\n",
    "LIMIT = 100\n",
    "    \n",
    "url = 'https://api.foursquare.com/v2/venues/explore?&client_id={}&client_secret={}&v={}&ll={},{}&radius={}&limit={}'.format(\n",
    "            CLIENT_ID, \n",
    "            CLIENT_SECRET, \n",
    "            VERSION, \n",
    "            lat, \n",
    "            lng, \n",
    "            radius, \n",
    "            LIMIT)"
   ]
  },
  {
   "cell_type": "code",
   "execution_count": 72,
   "metadata": {},
   "outputs": [],
   "source": [
    "results = requests.get(url).json()[\"response\"]['groups'][0]['items']"
   ]
  },
  {
   "cell_type": "code",
   "execution_count": 56,
   "metadata": {},
   "outputs": [
    {
     "data": {
      "text/plain": [
       "'https://api.foursquare.com/v2/venues/explore?&client_id=GBHOGHOE3DL1WYFOB4W5WI5SM1PLH1MDY4WN3O12SFGOVDUU&client_secret=AI25GODMBYEC331GD1VSY4Y3MRBP3SKR15N2YC01VKLSR0U4&v=20180605&ll=53.567411,-2.474144&radius=500&limit=100'"
      ]
     },
     "execution_count": 56,
     "metadata": {},
     "output_type": "execute_result"
    }
   ],
   "source": [
    "url"
   ]
  },
  {
   "cell_type": "code",
   "execution_count": 87,
   "metadata": {},
   "outputs": [],
   "source": [
    "city_points = {}\n",
    "geo_point_creator('New York')"
   ]
  },
  {
   "cell_type": "code",
   "execution_count": 89,
   "metadata": {},
   "outputs": [],
   "source": [
    "geolocator = Nominatim(user_agent=\"ny_explorer\")\n",
    "location = geolocator.geocode('New York')"
   ]
  },
  {
   "cell_type": "code",
   "execution_count": 90,
   "metadata": {},
   "outputs": [
    {
     "name": "stdout",
     "output_type": "stream",
     "text": [
      "{\n",
      "    \"place_id\": 234930245,\n",
      "    \"licence\": \"Data © OpenStreetMap contributors, ODbL 1.0. https://osm.org/copyright\",\n",
      "    \"osm_type\": \"relation\",\n",
      "    \"osm_id\": 175905,\n",
      "    \"boundingbox\": [\n",
      "        \"40.477399\",\n",
      "        \"40.9161785\",\n",
      "        \"-74.25909\",\n",
      "        \"-73.7001809\"\n",
      "    ],\n",
      "    \"lat\": \"40.7127281\",\n",
      "    \"lon\": \"-74.0060152\",\n",
      "    \"display_name\": \"New York, United States of America\",\n",
      "    \"class\": \"boundary\",\n",
      "    \"type\": \"administrative\",\n",
      "    \"importance\": 1.017576611451846,\n",
      "    \"icon\": \"https://nominatim.openstreetmap.org/images/mapicons/poi_boundary_administrative.p.20.png\"\n",
      "}\n"
     ]
    }
   ],
   "source": [
    "print(json.dumps(location.raw,indent=4,ensure_ascii=False))"
   ]
  },
  {
   "cell_type": "code",
   "execution_count": null,
   "metadata": {},
   "outputs": [],
   "source": []
  }
 ],
 "metadata": {
  "kernelspec": {
   "display_name": "Python 3",
   "language": "python",
   "name": "python3"
  },
  "language_info": {
   "codemirror_mode": {
    "name": "ipython",
    "version": 3
   },
   "file_extension": ".py",
   "mimetype": "text/x-python",
   "name": "python",
   "nbconvert_exporter": "python",
   "pygments_lexer": "ipython3",
   "version": "3.6.8"
  }
 },
 "nbformat": 4,
 "nbformat_minor": 4
}

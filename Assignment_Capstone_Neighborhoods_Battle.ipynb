{
 "cells": [
  {
   "cell_type": "markdown",
   "metadata": {},
   "source": [
    "# Geo part"
   ]
  },
  {
   "cell_type": "code",
   "execution_count": 1,
   "metadata": {},
   "outputs": [
    {
     "name": "stdout",
     "output_type": "stream",
     "text": [
      "Collecting package metadata (current_repodata.json): done\n",
      "Solving environment: done\n",
      "\n",
      "## Package Plan ##\n",
      "\n",
      "  environment location: /home/jupyterlab/conda/envs/python\n",
      "\n",
      "  added / updated specs:\n",
      "    - geopy\n",
      "\n",
      "\n",
      "The following packages will be downloaded:\n",
      "\n",
      "    package                    |            build\n",
      "    ---------------------------|-----------------\n",
      "    ca-certificates-2020.6.20  |       hecda079_0         145 KB  conda-forge\n",
      "    certifi-2020.6.20          |   py36h9f0ad1d_0         151 KB  conda-forge\n",
      "    geographiclib-1.50         |             py_0          34 KB  conda-forge\n",
      "    geopy-2.0.0                |     pyh9f0ad1d_0          63 KB  conda-forge\n",
      "    ------------------------------------------------------------\n",
      "                                           Total:         394 KB\n",
      "\n",
      "The following NEW packages will be INSTALLED:\n",
      "\n",
      "  geographiclib      conda-forge/noarch::geographiclib-1.50-py_0\n",
      "  geopy              conda-forge/noarch::geopy-2.0.0-pyh9f0ad1d_0\n",
      "\n",
      "The following packages will be UPDATED:\n",
      "\n",
      "  ca-certificates                     2020.4.5.2-hecda079_0 --> 2020.6.20-hecda079_0\n",
      "  certifi                         2020.4.5.2-py36h9f0ad1d_0 --> 2020.6.20-py36h9f0ad1d_0\n",
      "\n",
      "\n",
      "\n",
      "Downloading and Extracting Packages\n",
      "certifi-2020.6.20    | 151 KB    | ##################################### | 100% \n",
      "ca-certificates-2020 | 145 KB    | ##################################### | 100% \n",
      "geopy-2.0.0          | 63 KB     | ##################################### | 100% \n",
      "geographiclib-1.50   | 34 KB     | ##################################### | 100% \n",
      "Preparing transaction: done\n",
      "Verifying transaction: done\n",
      "Executing transaction: done\n"
     ]
    }
   ],
   "source": [
    "!conda install -c conda-forge geopy --yes"
   ]
  },
  {
   "cell_type": "code",
   "execution_count": 1,
   "metadata": {},
   "outputs": [],
   "source": [
    "from geopy.distance import distance\n",
    "from geopy.distance import great_circle\n",
    "\n",
    "import json, logging\n",
    "from geopy.geocoders import Nominatim\n",
    "\n",
    "def seperator(a,b):\n",
    "    c = (b - a)/9\n",
    "    return [round(a,7),round(a+c,7),round(a+c*2,7),round(a+c*3,7),round(a+c*4,7),round(a+c*5,7),round(a+c*6,7),round(a+c*7,7),round(a+c*8,7),round(b,7)]\n",
    "\n",
    "def geo_point_creator(city):\n",
    "    geolocator = Nominatim(user_agent=\"ny_explorer\")\n",
    "    location = geolocator.geocode(city)\n",
    "    lat_list = seperator(float(location.raw['boundingbox'][0]),float(location.raw['boundingbox'][1]))\n",
    "    lon_list = seperator(float(location.raw['boundingbox'][2]),float(location.raw['boundingbox'][3]))\n",
    "    point_list = []\n",
    "    for lat in lat_list:\n",
    "        for lon in lon_list:\n",
    "            point_list.append([city,lat,lon])\n",
    "    df_city = pd.DataFrame(point_list, columns=['city','lat','lng'])\n",
    "    point0 = [float(df_city.loc[0,['lat']]),float(df_city.loc[0,['lng']])]\n",
    "    point1 = [float(df_city.loc[1,['lat']]),float(df_city.loc[1,['lng']])]\n",
    "    point10 = [float(df_city.loc[10,['lat']]),float(df_city.loc[10,['lng']])]\n",
    "    rad1 = int(distance(point0, point1).meters//2)\n",
    "    rad2 = int(distance(point0, point10).meters//2) \n",
    "    radius = (rad1 + rad2)//2\n",
    "    #print(point0,point1,point10,rad1,rad2,radius)\n",
    "    df_city['radius'] = radius\n",
    "    return df_city"
   ]
  },
  {
   "cell_type": "markdown",
   "metadata": {},
   "source": [
    "# Data Cleaning"
   ]
  },
  {
   "cell_type": "code",
   "execution_count": 2,
   "metadata": {},
   "outputs": [],
   "source": [
    "import pandas as pd\n",
    "import numpy as np\n",
    "import requests\n",
    "import re\n",
    "\n",
    "df = pd.read_csv('CITIES_12062020101058739.csv')"
   ]
  },
  {
   "cell_type": "code",
   "execution_count": 15,
   "metadata": {},
   "outputs": [
    {
     "name": "stderr",
     "output_type": "stream",
     "text": [
      "/usr/local/lib/python3.6/site-packages/ipykernel_launcher.py:5: SettingWithCopyWarning: \n",
      "A value is trying to be set on a copy of a slice from a DataFrame\n",
      "\n",
      "See the caveats in the documentation: https://pandas.pydata.org/pandas-docs/stable/user_guide/indexing.html#returning-a-view-versus-a-copy\n",
      "  \"\"\"\n"
     ]
    },
    {
     "data": {
      "text/plain": [
       "['New York, USA', 'Los Angeles, USA', 'Seoul', 'Washington, USA', 'Paris, FR']"
      ]
     },
     "execution_count": 15,
     "metadata": {},
     "output_type": "execute_result"
    }
   ],
   "source": [
    "gdp_2018 = df[df['Year']==2018]\n",
    "top5_gdpt_city = gdp_2018[gdp_2018['VAR']=='GDP_REAL_PPP'].sort_values(by='Value',ascending=False).reset_index().head()\n",
    "for i,n in enumerate(top5_gdpt_city['METRO_ID'].to_list()):\n",
    "    x = ''.join(re.findall(r'[A-Za-z]', n))\n",
    "    top5_gdpt_city['Flags'][i] = top5_gdpt_city['Metropolitan areas'].to_list()[i].replace(' (Greater)','') + ', ' + x\n",
    "\n",
    "gdpt = top5_gdpt_city['Flags'].to_list()\n",
    "gdpt[2] = 'Seoul'\n",
    "gdpt"
   ]
  },
  {
   "cell_type": "code",
   "execution_count": 16,
   "metadata": {},
   "outputs": [
    {
     "name": "stderr",
     "output_type": "stream",
     "text": [
      "/usr/local/lib/python3.6/site-packages/ipykernel_launcher.py:4: SettingWithCopyWarning: \n",
      "A value is trying to be set on a copy of a slice from a DataFrame\n",
      "\n",
      "See the caveats in the documentation: https://pandas.pydata.org/pandas-docs/stable/user_guide/indexing.html#returning-a-view-versus-a-copy\n",
      "  after removing the cwd from sys.path.\n"
     ]
    },
    {
     "data": {
      "text/plain": [
       "['Cork, IE',\n",
       " 'San Francisco, USA',\n",
       " 'Durham, USA',\n",
       " 'Luxembourg, LU',\n",
       " 'Washington, USA']"
      ]
     },
     "execution_count": 16,
     "metadata": {},
     "output_type": "execute_result"
    }
   ],
   "source": [
    "top5_gdpp_city = gdp_2018[gdp_2018['VAR']=='GDP_PC_REAL_PPP'].sort_values(by='Value',ascending=False).reset_index().head()\n",
    "for i,n in enumerate(top5_gdpp_city['METRO_ID'].to_list()):\n",
    "    x = ''.join(re.findall(r'[A-Za-z]', n))\n",
    "    top5_gdpp_city['Flags'][i] = top5_gdpp_city['Metropolitan areas'].to_list()[i].replace(' (Greater)','') + ', ' + x\n",
    "gdpp = top5_gdpp_city['Flags'].to_list()\n",
    "gdpp"
   ]
  },
  {
   "cell_type": "code",
   "execution_count": 3,
   "metadata": {},
   "outputs": [
    {
     "name": "stdout",
     "output_type": "stream",
     "text": [
      "Your credentails:\n",
      "CLIENT_ID: GBHOGHOE3DL1WYFOB4W5WI5SM1PLH1MDY4WN3O12SFGOVDUU\n",
      "CLIENT_SECRET:AI25GODMBYEC331GD1VSY4Y3MRBP3SKR15N2YC01VKLSR0U4\n"
     ]
    }
   ],
   "source": [
    "CLIENT_ID = 'GBHOGHOE3DL1WYFOB4W5WI5SM1PLH1MDY4WN3O12SFGOVDUU' # your Foursquare ID\n",
    "CLIENT_SECRET = 'AI25GODMBYEC331GD1VSY4Y3MRBP3SKR15N2YC01VKLSR0U4' # your Foursquare Secret\n",
    "VERSION = '20180605' # Foursquare API version\n",
    "\n",
    "print('Your credentails:')\n",
    "print('CLIENT_ID: ' + CLIENT_ID)\n",
    "print('CLIENT_SECRET:' + CLIENT_SECRET)\n",
    "LIMIT = 100"
   ]
  },
  {
   "cell_type": "code",
   "execution_count": 4,
   "metadata": {},
   "outputs": [],
   "source": [
    "def getNearbyVenues(names, latitudes, longitudes, radiuses):\n",
    "    \n",
    "    venues_list=[]\n",
    "    for name, lat, lng, radius in zip(names, latitudes, longitudes, radiuses):\n",
    "        #print('{},{},{}'.format(lat,lng,radius))\n",
    "            \n",
    "        # create the API request URL\n",
    "        url = 'https://api.foursquare.com/v2/venues/explore?&client_id={}&client_secret={}&v={}&ll={},{}&radius={}&limit={}'.format(\n",
    "            CLIENT_ID, \n",
    "            CLIENT_SECRET, \n",
    "            VERSION, \n",
    "            lat, \n",
    "            lng, \n",
    "            radius, \n",
    "            LIMIT)\n",
    "            \n",
    "        # make the GET request\n",
    "        results = requests.get(url).json()[\"response\"]['groups'][0]['items']\n",
    "        \n",
    "        # return only relevant information for each nearby venue\n",
    "        venues_list.append([(\n",
    "            name,\n",
    "            lat, \n",
    "            lng, \n",
    "            v['venue']['name'], \n",
    "            v['venue']['location']['lat'], \n",
    "            v['venue']['location']['lng'],  \n",
    "            v['venue']['categories'][0]['name']) for v in results])\n",
    "\n",
    "    nearby_venues = pd.DataFrame([item for venue_list in venues_list for item in venue_list])\n",
    "    nearby_venues.columns = ['City Name',\n",
    "                  'Latitude', \n",
    "                  'Longitude', \n",
    "                  'Venue', \n",
    "                  'Venue Latitude', \n",
    "                  'Venue Longitude', \n",
    "                  'Venue Category']\n",
    "    \n",
    "    return(nearby_venues)"
   ]
  },
  {
   "cell_type": "markdown",
   "metadata": {},
   "source": [
    "**for loop to generate the DataFrame**"
   ]
  },
  {
   "cell_type": "code",
   "execution_count": 18,
   "metadata": {},
   "outputs": [],
   "source": [
    "city_list = gdpt"
   ]
  },
  {
   "cell_type": "code",
   "execution_count": 22,
   "metadata": {},
   "outputs": [],
   "source": [
    "city_point_gdpt = pd.DataFrame(columns=['city','lat','lng','radius'])\n",
    "for city in city_list:\n",
    "    df_tmp = geo_point_creator(city)\n",
    "    city_point_gdpt = city_point_gdpt.append(df_tmp, ignore_index=True)\n",
    "NY_point = city_point_gdpt[city_point_gdpt['city']=='New York, USA']\n",
    "LA_point = city_point_gdpt[city_point_gdpt['city']=='Los Angeles, USA']\n",
    "Seoul_point = city_point_gdpt[city_point_gdpt['city']=='Seoul']\n",
    "DC_point = city_point_gdpt[city_point_gdpt['city']=='Washington, USA']\n",
    "Paris_point = city_point_gdpt[city_point_gdpt['city']=='Paris, FR']"
   ]
  },
  {
   "cell_type": "code",
   "execution_count": 26,
   "metadata": {},
   "outputs": [],
   "source": [
    "city_list = gdpp\n",
    "city_point_gdpp = pd.DataFrame(columns=['city','lat','lng','radius'])\n",
    "for city in city_list:\n",
    "    df_tmp = geo_point_creator(city)\n",
    "    city_point_gdpp = city_point_gdpp.append(df_tmp, ignore_index=True)"
   ]
  },
  {
   "cell_type": "code",
   "execution_count": 54,
   "metadata": {},
   "outputs": [],
   "source": [
    "Durham_point = city_point_gdpp[city_point_gdpp['city']=='Durham, USA']\n",
    "Luxembourg_point = city_point_gdpp[city_point_gdpp['city']=='Luxembourg, LU']\n",
    "SF_point = city_point_gdpp[city_point_gdpp['city']=='San Francisco, USA']\n",
    "DC_point = city_point_gdpp[city_point_gdpp['city']=='Washington, USA']\n",
    "Cork_point = city_point_gdpp[city_point_gdpp['city']=='Cork, IE']"
   ]
  },
  {
   "cell_type": "code",
   "execution_count": 55,
   "metadata": {},
   "outputs": [],
   "source": [
    "city_point = pd.DataFrame(columns=['city','lat','lng','radius'])\n",
    "city_point = city_point.append(NY_point, ignore_index=True)\n",
    "city_point = city_point.append(LA_point, ignore_index=True)\n",
    "city_point = city_point.append(DC_point, ignore_index=True)\n",
    "city_point = city_point.append(SF_point, ignore_index=True)\n",
    "city_point = city_point.append(Paris_point, ignore_index=True)\n"
   ]
  },
  {
   "cell_type": "code",
   "execution_count": 56,
   "metadata": {},
   "outputs": [
    {
     "data": {
      "text/plain": [
       "(500, 4)"
      ]
     },
     "execution_count": 56,
     "metadata": {},
     "output_type": "execute_result"
    }
   ],
   "source": [
    "city_point.shape"
   ]
  },
  {
   "cell_type": "code",
   "execution_count": 56,
   "metadata": {},
   "outputs": [
    {
     "data": {
      "text/html": [
       "<div>\n",
       "<style scoped>\n",
       "    .dataframe tbody tr th:only-of-type {\n",
       "        vertical-align: middle;\n",
       "    }\n",
       "\n",
       "    .dataframe tbody tr th {\n",
       "        vertical-align: top;\n",
       "    }\n",
       "\n",
       "    .dataframe thead th {\n",
       "        text-align: right;\n",
       "    }\n",
       "</style>\n",
       "<table border=\"1\" class=\"dataframe\">\n",
       "  <thead>\n",
       "    <tr style=\"text-align: right;\">\n",
       "      <th></th>\n",
       "      <th>city</th>\n",
       "      <th>lat</th>\n",
       "      <th>lng</th>\n",
       "      <th>radius</th>\n",
       "    </tr>\n",
       "  </thead>\n",
       "  <tbody>\n",
       "    <tr>\n",
       "      <th>100</th>\n",
       "      <td>San Francisco, USA</td>\n",
       "      <td>37.640314</td>\n",
       "      <td>-123.173825</td>\n",
       "      <td>3080</td>\n",
       "    </tr>\n",
       "    <tr>\n",
       "      <th>101</th>\n",
       "      <td>San Francisco, USA</td>\n",
       "      <td>37.640314</td>\n",
       "      <td>-123.074675</td>\n",
       "      <td>3080</td>\n",
       "    </tr>\n",
       "    <tr>\n",
       "      <th>102</th>\n",
       "      <td>San Francisco, USA</td>\n",
       "      <td>37.640314</td>\n",
       "      <td>-122.975526</td>\n",
       "      <td>3080</td>\n",
       "    </tr>\n",
       "    <tr>\n",
       "      <th>103</th>\n",
       "      <td>San Francisco, USA</td>\n",
       "      <td>37.640314</td>\n",
       "      <td>-122.876376</td>\n",
       "      <td>3080</td>\n",
       "    </tr>\n",
       "    <tr>\n",
       "      <th>104</th>\n",
       "      <td>San Francisco, USA</td>\n",
       "      <td>37.640314</td>\n",
       "      <td>-122.777227</td>\n",
       "      <td>3080</td>\n",
       "    </tr>\n",
       "  </tbody>\n",
       "</table>\n",
       "</div>"
      ],
      "text/plain": [
       "                   city        lat         lng radius\n",
       "100  San Francisco, USA  37.640314 -123.173825   3080\n",
       "101  San Francisco, USA  37.640314 -123.074675   3080\n",
       "102  San Francisco, USA  37.640314 -122.975526   3080\n",
       "103  San Francisco, USA  37.640314 -122.876376   3080\n",
       "104  San Francisco, USA  37.640314 -122.777227   3080"
      ]
     },
     "execution_count": 56,
     "metadata": {},
     "output_type": "execute_result"
    }
   ],
   "source": [
    "SF_point.head()"
   ]
  },
  {
   "cell_type": "markdown",
   "metadata": {},
   "source": [
    "# Get Venues and Create features"
   ]
  },
  {
   "cell_type": "code",
   "execution_count": null,
   "metadata": {},
   "outputs": [],
   "source": [
    "NY_venues = getNearbyVenues(names=NY_point['city'],\n",
    "                              latitudes=NY_point['lat'],\n",
    "                              longitudes=NY_point['lng'],\n",
    "                              radiuses=NY_point['radius']\n",
    "                             )"
   ]
  },
  {
   "cell_type": "code",
   "execution_count": 24,
   "metadata": {},
   "outputs": [],
   "source": [
    "LA_venues = getNearbyVenues(names=LA_point['city'],\n",
    "                              latitudes=LA_point['lat'],\n",
    "                              longitudes=LA_point['lng'],\n",
    "                              radiuses=LA_point['radius']\n",
    "                             )"
   ]
  },
  {
   "cell_type": "code",
   "execution_count": 29,
   "metadata": {},
   "outputs": [],
   "source": [
    "Seoul_venues = getNearbyVenues(names=Seoul_point['city'],\n",
    "                              latitudes=Seoul_point['lat'],\n",
    "                              longitudes=Seoul_point['lng'],\n",
    "                              radiuses=Seoul_point['radius']\n",
    "                             )"
   ]
  },
  {
   "cell_type": "code",
   "execution_count": 32,
   "metadata": {},
   "outputs": [],
   "source": [
    "DC_venues = getNearbyVenues(names=DC_point['city'],\n",
    "                              latitudes=DC_point['lat'],\n",
    "                              longitudes=DC_point['lng'],\n",
    "                              radiuses=DC_point['radius']\n",
    "                             )"
   ]
  },
  {
   "cell_type": "code",
   "execution_count": 37,
   "metadata": {},
   "outputs": [],
   "source": [
    "Paris_venues = getNearbyVenues(names=Paris_point['city'],\n",
    "                              latitudes=Paris_point['lat'],\n",
    "                              longitudes=Paris_point['lng'],\n",
    "                              radiuses=Paris_point['radius']\n",
    "                             )"
   ]
  },
  {
   "cell_type": "code",
   "execution_count": 44,
   "metadata": {},
   "outputs": [],
   "source": [
    "Durham_venues = getNearbyVenues(names=Durham_point['city'],\n",
    "                              latitudes=Durham_point['lat'],\n",
    "                              longitudes=Durham_point['lng'],\n",
    "                              radiuses=Durham_point['radius']\n",
    "                             )"
   ]
  },
  {
   "cell_type": "code",
   "execution_count": 46,
   "metadata": {},
   "outputs": [],
   "source": [
    "Luxembourg_venues = getNearbyVenues(names=Luxembourg_point['city'],\n",
    "                              latitudes=Luxembourg_point['lat'],\n",
    "                              longitudes=Luxembourg_point['lng'],\n",
    "                              radiuses=Luxembourg_point['radius']\n",
    "                             )"
   ]
  },
  {
   "cell_type": "code",
   "execution_count": 10,
   "metadata": {},
   "outputs": [],
   "source": [
    "SF_venues = getNearbyVenues(names=SF_point['city'],\n",
    "                              latitudes=SF_point['lat'],\n",
    "                              longitudes=SF_point['lng'],\n",
    "                              radiuses=SF_point['radius']\n",
    "                             )"
   ]
  },
  {
   "cell_type": "code",
   "execution_count": 13,
   "metadata": {},
   "outputs": [],
   "source": [
    "Cork_venues = getNearbyVenues(names=Cork_point['city'],\n",
    "                              latitudes=Cork_point['lat'],\n",
    "                              longitudes=Cork_point['lng'],\n",
    "                              radiuses=Cork_point['radius']\n",
    "                             )"
   ]
  },
  {
   "cell_type": "code",
   "execution_count": 26,
   "metadata": {},
   "outputs": [],
   "source": [
    "LA_venues.to_csv('LA_venues.csv')"
   ]
  },
  {
   "cell_type": "code",
   "execution_count": 22,
   "metadata": {},
   "outputs": [],
   "source": [
    "NY_venues.to_csv('NY_venues.csv')"
   ]
  },
  {
   "cell_type": "code",
   "execution_count": 31,
   "metadata": {},
   "outputs": [],
   "source": [
    "Seoul_venues.to_csv('Seoul_venues.csv')"
   ]
  },
  {
   "cell_type": "code",
   "execution_count": 34,
   "metadata": {},
   "outputs": [],
   "source": [
    "DC_venues.to_csv('DC_venues.csv')"
   ]
  },
  {
   "cell_type": "code",
   "execution_count": 40,
   "metadata": {},
   "outputs": [],
   "source": [
    "Paris_venues.to_csv('Paris_venues.csv')"
   ]
  },
  {
   "cell_type": "code",
   "execution_count": 49,
   "metadata": {},
   "outputs": [],
   "source": [
    "Durham_venues.to_csv('Durham_venues.csv')"
   ]
  },
  {
   "cell_type": "code",
   "execution_count": 50,
   "metadata": {},
   "outputs": [],
   "source": [
    "Luxembourg_venues.to_csv('Luxembourg_venues.csv')"
   ]
  },
  {
   "cell_type": "code",
   "execution_count": 12,
   "metadata": {},
   "outputs": [],
   "source": [
    "SF_venues.to_csv('SF_venues.csv')"
   ]
  },
  {
   "cell_type": "code",
   "execution_count": 15,
   "metadata": {},
   "outputs": [],
   "source": [
    "Cork_venues.to_csv('Cork_venues.csv')"
   ]
  },
  {
   "cell_type": "code",
   "execution_count": 3,
   "metadata": {},
   "outputs": [],
   "source": [
    "LA_venues = pd.read_csv('LA_venues.csv')\n",
    "NY_venues = pd.read_csv('NY_venues.csv')\n",
    "Seoul_venues = pd.read_csv('Seoul_venues.csv')\n",
    "DC_venues = pd.read_csv('DC_venues.csv')\n",
    "Paris_venues = pd.read_csv('Paris_venues.csv')\n",
    "Durham_venues = pd.read_csv('Durham_venues.csv')\n",
    "Luxembourg_venues = pd.read_csv('Luxembourg_venues.csv')\n",
    "SF_venues = pd.read_csv('SF_venues.csv')\n",
    "Cork_venues = pd.read_csv('Cork_venues.csv')"
   ]
  },
  {
   "cell_type": "code",
   "execution_count": 4,
   "metadata": {},
   "outputs": [
    {
     "data": {
      "text/plain": [
       "Index(['Unnamed: 0', 'City Name', 'Latitude', 'Longitude', 'Venue',\n",
       "       'Venue Latitude', 'Venue Longitude', 'Venue Category'],\n",
       "      dtype='object')"
      ]
     },
     "execution_count": 4,
     "metadata": {},
     "output_type": "execute_result"
    }
   ],
   "source": [
    "LA_venues.columns"
   ]
  },
  {
   "cell_type": "code",
   "execution_count": 57,
   "metadata": {},
   "outputs": [],
   "source": [
    "cities_venues = pd.DataFrame(columns=['Unnamed: 0', 'City Name', 'Latitude', 'Longitude', 'Venue',\n",
    "       'Venue Latitude', 'Venue Longitude', 'Venue Category'])\n",
    "cities_venues = cities_venues.append(LA_venues, ignore_index=True)\n",
    "cities_venues = cities_venues.append(NY_venues, ignore_index=True)\n",
    "cities_venues = cities_venues.append(DC_venues, ignore_index=True)\n",
    "cities_venues = cities_venues.append(Paris_venues, ignore_index=True)\n",
    "#cities_venues = cities_venues.append(Durham_venues, ignore_index=True)\n",
    "#cities_venues = cities_venues.append(Luxembourg_venues, ignore_index=True)\n",
    "cities_venues = cities_venues.append(SF_venues, ignore_index=True)\n",
    "#cities_venues = cities_venues.append(Cork_venues, ignore_index=True)"
   ]
  },
  {
   "cell_type": "code",
   "execution_count": 58,
   "metadata": {},
   "outputs": [
    {
     "name": "stdout",
     "output_type": "stream",
     "text": [
      "There are 542 uniques categories.\n"
     ]
    }
   ],
   "source": [
    "print('There are {} uniques categories.'.format(len(cities_venues['Venue Category'].unique())))"
   ]
  },
  {
   "cell_type": "code",
   "execution_count": 59,
   "metadata": {},
   "outputs": [
    {
     "data": {
      "text/html": [
       "<div>\n",
       "<style scoped>\n",
       "    .dataframe tbody tr th:only-of-type {\n",
       "        vertical-align: middle;\n",
       "    }\n",
       "\n",
       "    .dataframe tbody tr th {\n",
       "        vertical-align: top;\n",
       "    }\n",
       "\n",
       "    .dataframe thead th {\n",
       "        text-align: right;\n",
       "    }\n",
       "</style>\n",
       "<table border=\"1\" class=\"dataframe\">\n",
       "  <thead>\n",
       "    <tr style=\"text-align: right;\">\n",
       "      <th></th>\n",
       "      <th>Longitude</th>\n",
       "      <th>ATM</th>\n",
       "      <th>Acai House</th>\n",
       "      <th>Accessories Store</th>\n",
       "      <th>Adult Boutique</th>\n",
       "      <th>Afghan Restaurant</th>\n",
       "      <th>African Restaurant</th>\n",
       "      <th>Airport</th>\n",
       "      <th>Airport Food Court</th>\n",
       "      <th>Airport Lounge</th>\n",
       "      <th>...</th>\n",
       "      <th>Wine Shop</th>\n",
       "      <th>Winery</th>\n",
       "      <th>Wings Joint</th>\n",
       "      <th>Women's Store</th>\n",
       "      <th>Xinjiang Restaurant</th>\n",
       "      <th>Yemeni Restaurant</th>\n",
       "      <th>Yoga Studio</th>\n",
       "      <th>Zoo</th>\n",
       "      <th>Zoo Exhibit</th>\n",
       "      <th>Latitude</th>\n",
       "    </tr>\n",
       "  </thead>\n",
       "  <tbody>\n",
       "    <tr>\n",
       "      <th>0</th>\n",
       "      <td>-118.440230</td>\n",
       "      <td>0</td>\n",
       "      <td>0</td>\n",
       "      <td>0</td>\n",
       "      <td>0</td>\n",
       "      <td>0</td>\n",
       "      <td>0</td>\n",
       "      <td>0</td>\n",
       "      <td>0</td>\n",
       "      <td>0</td>\n",
       "      <td>...</td>\n",
       "      <td>0</td>\n",
       "      <td>0</td>\n",
       "      <td>0</td>\n",
       "      <td>0</td>\n",
       "      <td>0</td>\n",
       "      <td>0</td>\n",
       "      <td>0</td>\n",
       "      <td>0</td>\n",
       "      <td>0</td>\n",
       "      <td>33.659541</td>\n",
       "    </tr>\n",
       "    <tr>\n",
       "      <th>1</th>\n",
       "      <td>-118.326256</td>\n",
       "      <td>0</td>\n",
       "      <td>0</td>\n",
       "      <td>0</td>\n",
       "      <td>0</td>\n",
       "      <td>0</td>\n",
       "      <td>0</td>\n",
       "      <td>0</td>\n",
       "      <td>0</td>\n",
       "      <td>0</td>\n",
       "      <td>...</td>\n",
       "      <td>0</td>\n",
       "      <td>0</td>\n",
       "      <td>0</td>\n",
       "      <td>0</td>\n",
       "      <td>0</td>\n",
       "      <td>0</td>\n",
       "      <td>0</td>\n",
       "      <td>0</td>\n",
       "      <td>0</td>\n",
       "      <td>33.659541</td>\n",
       "    </tr>\n",
       "    <tr>\n",
       "      <th>2</th>\n",
       "      <td>-118.326256</td>\n",
       "      <td>0</td>\n",
       "      <td>0</td>\n",
       "      <td>0</td>\n",
       "      <td>0</td>\n",
       "      <td>0</td>\n",
       "      <td>0</td>\n",
       "      <td>0</td>\n",
       "      <td>0</td>\n",
       "      <td>0</td>\n",
       "      <td>...</td>\n",
       "      <td>0</td>\n",
       "      <td>0</td>\n",
       "      <td>0</td>\n",
       "      <td>0</td>\n",
       "      <td>0</td>\n",
       "      <td>0</td>\n",
       "      <td>0</td>\n",
       "      <td>0</td>\n",
       "      <td>0</td>\n",
       "      <td>33.659541</td>\n",
       "    </tr>\n",
       "    <tr>\n",
       "      <th>3</th>\n",
       "      <td>-118.326256</td>\n",
       "      <td>0</td>\n",
       "      <td>0</td>\n",
       "      <td>0</td>\n",
       "      <td>0</td>\n",
       "      <td>0</td>\n",
       "      <td>0</td>\n",
       "      <td>0</td>\n",
       "      <td>0</td>\n",
       "      <td>0</td>\n",
       "      <td>...</td>\n",
       "      <td>0</td>\n",
       "      <td>0</td>\n",
       "      <td>0</td>\n",
       "      <td>0</td>\n",
       "      <td>0</td>\n",
       "      <td>0</td>\n",
       "      <td>0</td>\n",
       "      <td>0</td>\n",
       "      <td>0</td>\n",
       "      <td>33.659541</td>\n",
       "    </tr>\n",
       "    <tr>\n",
       "      <th>4</th>\n",
       "      <td>-118.269269</td>\n",
       "      <td>0</td>\n",
       "      <td>0</td>\n",
       "      <td>0</td>\n",
       "      <td>0</td>\n",
       "      <td>0</td>\n",
       "      <td>0</td>\n",
       "      <td>0</td>\n",
       "      <td>0</td>\n",
       "      <td>0</td>\n",
       "      <td>...</td>\n",
       "      <td>0</td>\n",
       "      <td>0</td>\n",
       "      <td>0</td>\n",
       "      <td>0</td>\n",
       "      <td>0</td>\n",
       "      <td>0</td>\n",
       "      <td>0</td>\n",
       "      <td>0</td>\n",
       "      <td>0</td>\n",
       "      <td>33.659541</td>\n",
       "    </tr>\n",
       "  </tbody>\n",
       "</table>\n",
       "<p>5 rows × 544 columns</p>\n",
       "</div>"
      ],
      "text/plain": [
       "    Longitude  ATM  Acai House  Accessories Store  Adult Boutique  \\\n",
       "0 -118.440230    0           0                  0               0   \n",
       "1 -118.326256    0           0                  0               0   \n",
       "2 -118.326256    0           0                  0               0   \n",
       "3 -118.326256    0           0                  0               0   \n",
       "4 -118.269269    0           0                  0               0   \n",
       "\n",
       "   Afghan Restaurant  African Restaurant  Airport  Airport Food Court  \\\n",
       "0                  0                   0        0                   0   \n",
       "1                  0                   0        0                   0   \n",
       "2                  0                   0        0                   0   \n",
       "3                  0                   0        0                   0   \n",
       "4                  0                   0        0                   0   \n",
       "\n",
       "   Airport Lounge  ...  Wine Shop  Winery  Wings Joint  Women's Store  \\\n",
       "0               0  ...          0       0            0              0   \n",
       "1               0  ...          0       0            0              0   \n",
       "2               0  ...          0       0            0              0   \n",
       "3               0  ...          0       0            0              0   \n",
       "4               0  ...          0       0            0              0   \n",
       "\n",
       "   Xinjiang Restaurant  Yemeni Restaurant  Yoga Studio  Zoo  Zoo Exhibit  \\\n",
       "0                    0                  0            0    0            0   \n",
       "1                    0                  0            0    0            0   \n",
       "2                    0                  0            0    0            0   \n",
       "3                    0                  0            0    0            0   \n",
       "4                    0                  0            0    0            0   \n",
       "\n",
       "    Latitude  \n",
       "0  33.659541  \n",
       "1  33.659541  \n",
       "2  33.659541  \n",
       "3  33.659541  \n",
       "4  33.659541  \n",
       "\n",
       "[5 rows x 544 columns]"
      ]
     },
     "execution_count": 59,
     "metadata": {},
     "output_type": "execute_result"
    }
   ],
   "source": [
    "city_onehot = pd.get_dummies(cities_venues[['Venue Category']], prefix=\"\", prefix_sep=\"\")\n",
    "\n",
    "# add neighborhood column back to dataframe\n",
    "#city_onehot['Neighborhood'] = city_venues['Neighborhood'] \n",
    "city_onehot['Latitude'] = cities_venues['Latitude'] \n",
    "city_onehot['Longitude'] = cities_venues['Longitude'] \n",
    "# move neighborhood column to the first column\n",
    "fixed_columns = [city_onehot.columns[-1]] + list(city_onehot.columns[:-1])\n",
    "city_onehot = city_onehot[fixed_columns]\n",
    "\n",
    "city_onehot.head()"
   ]
  },
  {
   "cell_type": "code",
   "execution_count": 60,
   "metadata": {},
   "outputs": [],
   "source": [
    "city_grouped = city_onehot.groupby(['Latitude','Longitude']).mean().reset_index()"
   ]
  },
  {
   "cell_type": "code",
   "execution_count": 61,
   "metadata": {},
   "outputs": [
    {
     "data": {
      "text/plain": [
       "array([1, 5, 5, 1, 0, 0, 0, 0, 0, 0, 1, 1, 0, 0, 0, 0, 0, 1, 1, 0, 0, 0,\n",
       "       0, 0, 0, 7, 7, 5, 0, 0, 0, 0, 0, 0, 0, 0, 0, 0, 0, 0, 0, 0, 0, 0,\n",
       "       6, 0, 6, 6, 0, 0, 0, 0, 0, 0, 0, 0, 0, 0, 0, 0, 0, 0, 0, 0, 0, 0,\n",
       "       0, 0, 0, 0, 0, 0, 6, 6, 9, 0, 6, 0, 0, 0, 6, 0, 8, 0, 0, 5, 0, 0,\n",
       "       0, 2, 0, 0, 2, 0, 0, 0, 4, 0, 0, 0], dtype=int32)"
      ]
     },
     "execution_count": 61,
     "metadata": {},
     "output_type": "execute_result"
    }
   ],
   "source": [
    "from sklearn.cluster import KMeans\n",
    "\n",
    "# set number of clusters\n",
    "kclusters = 10\n",
    "\n",
    "city_grouped_clustering = city_grouped.drop(['Latitude','Longitude'], 1)\n",
    "\n",
    "# run k-means clustering\n",
    "kmeans = KMeans(n_clusters=kclusters, random_state=0).fit(city_grouped_clustering)\n",
    "\n",
    "# check cluster labels generated for each row in the dataframe\n",
    "kmeans.labels_[0:100]"
   ]
  },
  {
   "cell_type": "code",
   "execution_count": 62,
   "metadata": {},
   "outputs": [],
   "source": [
    "city_grouped.insert(0, 'Cluster Labels', kmeans.labels_)\n",
    "\n",
    "city_merged = city_point\n",
    "\n",
    "# merge toronto_grouped with toronto_data to add latitude/longitude for each neighborhood\n",
    "city_merged = city_merged.join(city_grouped.set_index(['Latitude','Longitude']), on=['lat','lng'])\n",
    "\n",
    "\n",
    "city_merged.dropna(inplace=True)"
   ]
  },
  {
   "cell_type": "code",
   "execution_count": 63,
   "metadata": {},
   "outputs": [
    {
     "data": {
      "text/html": [
       "<div>\n",
       "<style scoped>\n",
       "    .dataframe tbody tr th:only-of-type {\n",
       "        vertical-align: middle;\n",
       "    }\n",
       "\n",
       "    .dataframe tbody tr th {\n",
       "        vertical-align: top;\n",
       "    }\n",
       "\n",
       "    .dataframe thead th {\n",
       "        text-align: right;\n",
       "    }\n",
       "</style>\n",
       "<table border=\"1\" class=\"dataframe\">\n",
       "  <thead>\n",
       "    <tr style=\"text-align: right;\">\n",
       "      <th></th>\n",
       "      <th>city</th>\n",
       "      <th>lat</th>\n",
       "      <th>lng</th>\n",
       "      <th>radius</th>\n",
       "      <th>Cluster Labels</th>\n",
       "      <th>ATM</th>\n",
       "      <th>Acai House</th>\n",
       "      <th>Accessories Store</th>\n",
       "      <th>Adult Boutique</th>\n",
       "      <th>Afghan Restaurant</th>\n",
       "      <th>...</th>\n",
       "      <th>Wine Bar</th>\n",
       "      <th>Wine Shop</th>\n",
       "      <th>Winery</th>\n",
       "      <th>Wings Joint</th>\n",
       "      <th>Women's Store</th>\n",
       "      <th>Xinjiang Restaurant</th>\n",
       "      <th>Yemeni Restaurant</th>\n",
       "      <th>Yoga Studio</th>\n",
       "      <th>Zoo</th>\n",
       "      <th>Zoo Exhibit</th>\n",
       "    </tr>\n",
       "  </thead>\n",
       "  <tbody>\n",
       "    <tr>\n",
       "      <th>0</th>\n",
       "      <td>New York, USA</td>\n",
       "      <td>40.477399</td>\n",
       "      <td>-74.259090</td>\n",
       "      <td>2669</td>\n",
       "      <td>0.0</td>\n",
       "      <td>0.0</td>\n",
       "      <td>0.0</td>\n",
       "      <td>0.0</td>\n",
       "      <td>0.0</td>\n",
       "      <td>0.0</td>\n",
       "      <td>...</td>\n",
       "      <td>0.0</td>\n",
       "      <td>0.0</td>\n",
       "      <td>0.0</td>\n",
       "      <td>0.0</td>\n",
       "      <td>0.0</td>\n",
       "      <td>0.0</td>\n",
       "      <td>0.0</td>\n",
       "      <td>0.0</td>\n",
       "      <td>0.0</td>\n",
       "      <td>0.0</td>\n",
       "    </tr>\n",
       "    <tr>\n",
       "      <th>1</th>\n",
       "      <td>New York, USA</td>\n",
       "      <td>40.477399</td>\n",
       "      <td>-74.196989</td>\n",
       "      <td>2669</td>\n",
       "      <td>0.0</td>\n",
       "      <td>0.0</td>\n",
       "      <td>0.0</td>\n",
       "      <td>0.0</td>\n",
       "      <td>0.0</td>\n",
       "      <td>0.0</td>\n",
       "      <td>...</td>\n",
       "      <td>0.0</td>\n",
       "      <td>0.0</td>\n",
       "      <td>0.0</td>\n",
       "      <td>0.0</td>\n",
       "      <td>0.0</td>\n",
       "      <td>0.0</td>\n",
       "      <td>0.0</td>\n",
       "      <td>0.0</td>\n",
       "      <td>0.0</td>\n",
       "      <td>0.0</td>\n",
       "    </tr>\n",
       "    <tr>\n",
       "      <th>2</th>\n",
       "      <td>New York, USA</td>\n",
       "      <td>40.477399</td>\n",
       "      <td>-74.134888</td>\n",
       "      <td>2669</td>\n",
       "      <td>0.0</td>\n",
       "      <td>0.0</td>\n",
       "      <td>0.0</td>\n",
       "      <td>0.0</td>\n",
       "      <td>0.0</td>\n",
       "      <td>0.0</td>\n",
       "      <td>...</td>\n",
       "      <td>0.0</td>\n",
       "      <td>0.0</td>\n",
       "      <td>0.0</td>\n",
       "      <td>0.0</td>\n",
       "      <td>0.0</td>\n",
       "      <td>0.0</td>\n",
       "      <td>0.0</td>\n",
       "      <td>0.0</td>\n",
       "      <td>0.0</td>\n",
       "      <td>0.0</td>\n",
       "    </tr>\n",
       "    <tr>\n",
       "      <th>5</th>\n",
       "      <td>New York, USA</td>\n",
       "      <td>40.477399</td>\n",
       "      <td>-73.948585</td>\n",
       "      <td>2669</td>\n",
       "      <td>0.0</td>\n",
       "      <td>0.0</td>\n",
       "      <td>0.0</td>\n",
       "      <td>0.0</td>\n",
       "      <td>0.0</td>\n",
       "      <td>0.0</td>\n",
       "      <td>...</td>\n",
       "      <td>0.0</td>\n",
       "      <td>0.0</td>\n",
       "      <td>0.0</td>\n",
       "      <td>0.0</td>\n",
       "      <td>0.0</td>\n",
       "      <td>0.0</td>\n",
       "      <td>0.0</td>\n",
       "      <td>0.0</td>\n",
       "      <td>0.0</td>\n",
       "      <td>0.0</td>\n",
       "    </tr>\n",
       "    <tr>\n",
       "      <th>6</th>\n",
       "      <td>New York, USA</td>\n",
       "      <td>40.477399</td>\n",
       "      <td>-73.886484</td>\n",
       "      <td>2669</td>\n",
       "      <td>5.0</td>\n",
       "      <td>0.0</td>\n",
       "      <td>0.0</td>\n",
       "      <td>0.0</td>\n",
       "      <td>0.0</td>\n",
       "      <td>0.0</td>\n",
       "      <td>...</td>\n",
       "      <td>0.0</td>\n",
       "      <td>0.0</td>\n",
       "      <td>0.0</td>\n",
       "      <td>0.0</td>\n",
       "      <td>0.0</td>\n",
       "      <td>0.0</td>\n",
       "      <td>0.0</td>\n",
       "      <td>0.0</td>\n",
       "      <td>0.0</td>\n",
       "      <td>0.0</td>\n",
       "    </tr>\n",
       "  </tbody>\n",
       "</table>\n",
       "<p>5 rows × 547 columns</p>\n",
       "</div>"
      ],
      "text/plain": [
       "            city        lat        lng radius  Cluster Labels  ATM  \\\n",
       "0  New York, USA  40.477399 -74.259090   2669             0.0  0.0   \n",
       "1  New York, USA  40.477399 -74.196989   2669             0.0  0.0   \n",
       "2  New York, USA  40.477399 -74.134888   2669             0.0  0.0   \n",
       "5  New York, USA  40.477399 -73.948585   2669             0.0  0.0   \n",
       "6  New York, USA  40.477399 -73.886484   2669             5.0  0.0   \n",
       "\n",
       "   Acai House  Accessories Store  Adult Boutique  Afghan Restaurant  ...  \\\n",
       "0         0.0                0.0             0.0                0.0  ...   \n",
       "1         0.0                0.0             0.0                0.0  ...   \n",
       "2         0.0                0.0             0.0                0.0  ...   \n",
       "5         0.0                0.0             0.0                0.0  ...   \n",
       "6         0.0                0.0             0.0                0.0  ...   \n",
       "\n",
       "   Wine Bar  Wine Shop  Winery  Wings Joint  Women's Store  \\\n",
       "0       0.0        0.0     0.0          0.0            0.0   \n",
       "1       0.0        0.0     0.0          0.0            0.0   \n",
       "2       0.0        0.0     0.0          0.0            0.0   \n",
       "5       0.0        0.0     0.0          0.0            0.0   \n",
       "6       0.0        0.0     0.0          0.0            0.0   \n",
       "\n",
       "   Xinjiang Restaurant  Yemeni Restaurant  Yoga Studio  Zoo  Zoo Exhibit  \n",
       "0                  0.0                0.0          0.0  0.0          0.0  \n",
       "1                  0.0                0.0          0.0  0.0          0.0  \n",
       "2                  0.0                0.0          0.0  0.0          0.0  \n",
       "5                  0.0                0.0          0.0  0.0          0.0  \n",
       "6                  0.0                0.0          0.0  0.0          0.0  \n",
       "\n",
       "[5 rows x 547 columns]"
      ]
     },
     "execution_count": 63,
     "metadata": {},
     "output_type": "execute_result"
    }
   ],
   "source": [
    "city_merged.head()"
   ]
  },
  {
   "cell_type": "code",
   "execution_count": 64,
   "metadata": {},
   "outputs": [],
   "source": [
    "df_coffee = city_merged.loc[:,['city','lat','lng','radius','Cluster Labels','Coffee Shop','Café']]\n",
    "df_coffee['counter'] = df_coffee['Coffee Shop'] + df_coffee['Café']"
   ]
  },
  {
   "cell_type": "code",
   "execution_count": 95,
   "metadata": {},
   "outputs": [
    {
     "data": {
      "text/html": [
       "<div>\n",
       "<style scoped>\n",
       "    .dataframe tbody tr th:only-of-type {\n",
       "        vertical-align: middle;\n",
       "    }\n",
       "\n",
       "    .dataframe tbody tr th {\n",
       "        vertical-align: top;\n",
       "    }\n",
       "\n",
       "    .dataframe thead th {\n",
       "        text-align: right;\n",
       "    }\n",
       "</style>\n",
       "<table border=\"1\" class=\"dataframe\">\n",
       "  <thead>\n",
       "    <tr style=\"text-align: right;\">\n",
       "      <th></th>\n",
       "      <th>lat</th>\n",
       "      <th>lng</th>\n",
       "      <th>Coffee Shop</th>\n",
       "      <th>Café</th>\n",
       "      <th>counter</th>\n",
       "    </tr>\n",
       "    <tr>\n",
       "      <th>Cluster Labels</th>\n",
       "      <th></th>\n",
       "      <th></th>\n",
       "      <th></th>\n",
       "      <th></th>\n",
       "      <th></th>\n",
       "    </tr>\n",
       "  </thead>\n",
       "  <tbody>\n",
       "    <tr>\n",
       "      <th>0.0</th>\n",
       "      <td>39.841278</td>\n",
       "      <td>-75.551886</td>\n",
       "      <td>0.024264</td>\n",
       "      <td>0.011565</td>\n",
       "      <td>0.035829</td>\n",
       "    </tr>\n",
       "    <tr>\n",
       "      <th>1.0</th>\n",
       "      <td>35.998616</td>\n",
       "      <td>-103.594095</td>\n",
       "      <td>0.000000</td>\n",
       "      <td>0.000000</td>\n",
       "      <td>0.000000</td>\n",
       "    </tr>\n",
       "    <tr>\n",
       "      <th>2.0</th>\n",
       "      <td>40.721165</td>\n",
       "      <td>-73.700181</td>\n",
       "      <td>0.000000</td>\n",
       "      <td>0.000000</td>\n",
       "      <td>0.000000</td>\n",
       "    </tr>\n",
       "    <tr>\n",
       "      <th>3.0</th>\n",
       "      <td>48.857820</td>\n",
       "      <td>2.303035</td>\n",
       "      <td>0.008209</td>\n",
       "      <td>0.019919</td>\n",
       "      <td>0.028128</td>\n",
       "    </tr>\n",
       "    <tr>\n",
       "      <th>4.0</th>\n",
       "      <td>40.501776</td>\n",
       "      <td>-73.855433</td>\n",
       "      <td>0.000000</td>\n",
       "      <td>0.000000</td>\n",
       "      <td>0.000000</td>\n",
       "    </tr>\n",
       "    <tr>\n",
       "      <th>5.0</th>\n",
       "      <td>36.359199</td>\n",
       "      <td>-108.190872</td>\n",
       "      <td>0.000000</td>\n",
       "      <td>0.000000</td>\n",
       "      <td>0.000000</td>\n",
       "    </tr>\n",
       "    <tr>\n",
       "      <th>6.0</th>\n",
       "      <td>36.060995</td>\n",
       "      <td>-120.495332</td>\n",
       "      <td>0.000000</td>\n",
       "      <td>0.010417</td>\n",
       "      <td>0.010417</td>\n",
       "    </tr>\n",
       "    <tr>\n",
       "      <th>8.0</th>\n",
       "      <td>34.337306</td>\n",
       "      <td>-118.155295</td>\n",
       "      <td>0.000000</td>\n",
       "      <td>0.000000</td>\n",
       "      <td>0.000000</td>\n",
       "    </tr>\n",
       "  </tbody>\n",
       "</table>\n",
       "</div>"
      ],
      "text/plain": [
       "                      lat         lng  Coffee Shop      Café   counter\n",
       "Cluster Labels                                                        \n",
       "0.0             39.841278  -75.551886     0.024264  0.011565  0.035829\n",
       "1.0             35.998616 -103.594095     0.000000  0.000000  0.000000\n",
       "2.0             40.721165  -73.700181     0.000000  0.000000  0.000000\n",
       "3.0             48.857820    2.303035     0.008209  0.019919  0.028128\n",
       "4.0             40.501776  -73.855433     0.000000  0.000000  0.000000\n",
       "5.0             36.359199 -108.190872     0.000000  0.000000  0.000000\n",
       "6.0             36.060995 -120.495332     0.000000  0.010417  0.010417\n",
       "8.0             34.337306 -118.155295     0.000000  0.000000  0.000000"
      ]
     },
     "execution_count": 95,
     "metadata": {},
     "output_type": "execute_result"
    }
   ],
   "source": [
    "df_coffee.groupby(['Cluster Labels']).mean()"
   ]
  },
  {
   "cell_type": "code",
   "execution_count": 97,
   "metadata": {},
   "outputs": [],
   "source": [
    "df_coffee = df_coffee[(df_coffee['Cluster Labels']==0.0) | (df_coffee['Cluster Labels']==3.0)]"
   ]
  },
  {
   "cell_type": "code",
   "execution_count": 102,
   "metadata": {},
   "outputs": [
    {
     "data": {
      "text/plain": [
       "count    203.000000\n",
       "mean       0.034084\n",
       "std        0.032466\n",
       "min        0.000000\n",
       "25%        0.000000\n",
       "50%        0.029851\n",
       "75%        0.050000\n",
       "max        0.160000\n",
       "Name: counter, dtype: float64"
      ]
     },
     "execution_count": 102,
     "metadata": {},
     "output_type": "execute_result"
    }
   ],
   "source": [
    "df_coffee['counter'].describe()"
   ]
  },
  {
   "cell_type": "code",
   "execution_count": 103,
   "metadata": {},
   "outputs": [],
   "source": [
    "df_coffee = df_coffee[(df_coffee['counter']>0.03) & (df_coffee['counter'] < 0.05)]"
   ]
  },
  {
   "cell_type": "code",
   "execution_count": 107,
   "metadata": {},
   "outputs": [],
   "source": [
    "df_coffee.to_csv('df_coffee.csv')"
   ]
  },
  {
   "cell_type": "markdown",
   "metadata": {},
   "source": [
    "# Clustering"
   ]
  },
  {
   "cell_type": "markdown",
   "metadata": {},
   "source": [
    "# Test Zone"
   ]
  },
  {
   "cell_type": "markdown",
   "metadata": {},
   "source": [
    "## Task: Change the city with country code to have better geopy result (Done)"
   ]
  },
  {
   "cell_type": "markdown",
   "metadata": {},
   "source": [
    "## TASK: Calculate the radius parameter(Done)"
   ]
  },
  {
   "cell_type": "markdown",
   "metadata": {},
   "source": [
    "## TASK: GET VENUES and create feature DataFrame(Done)"
   ]
  },
  {
   "cell_type": "markdown",
   "metadata": {},
   "source": [
    "## TASK: Clustering(Done)"
   ]
  },
  {
   "cell_type": "markdown",
   "metadata": {},
   "source": [
    "# Drawing the Map(Working)"
   ]
  },
  {
   "cell_type": "code",
   "execution_count": null,
   "metadata": {},
   "outputs": [],
   "source": []
  }
 ],
 "metadata": {
  "kernelspec": {
   "display_name": "Python 3",
   "language": "python",
   "name": "python3"
  },
  "language_info": {
   "codemirror_mode": {
    "name": "ipython",
    "version": 3
   },
   "file_extension": ".py",
   "mimetype": "text/x-python",
   "name": "python",
   "nbconvert_exporter": "python",
   "pygments_lexer": "ipython3",
   "version": "3.6.8"
  }
 },
 "nbformat": 4,
 "nbformat_minor": 4
}

{
 "cells": [
  {
   "cell_type": "markdown",
   "metadata": {},
   "source": [
    "# Geo part"
   ]
  },
  {
   "cell_type": "code",
   "execution_count": 1,
   "metadata": {},
   "outputs": [
    {
     "name": "stdout",
     "output_type": "stream",
     "text": [
      "Collecting package metadata (current_repodata.json): done\n",
      "Solving environment: done\n",
      "\n",
      "# All requested packages already installed.\n",
      "\n"
     ]
    }
   ],
   "source": [
    "import json, logging\n",
    "!conda install -c conda-forge geopy --yes\n",
    "\n",
    "from geopy.geocoders import Nominatim\n",
    "address = 'Dalian'\n",
    "\n",
    "geolocator = Nominatim(user_agent=\"ny_explorer\")\n",
    "location = geolocator.geocode(address)"
   ]
  },
  {
   "cell_type": "code",
   "execution_count": 2,
   "metadata": {},
   "outputs": [
    {
     "name": "stdout",
     "output_type": "stream",
     "text": [
      "{\n",
      "    \"place_id\": 22234417,\n",
      "    \"licence\": \"Data © OpenStreetMap contributors, ODbL 1.0. https://osm.org/copyright\",\n",
      "    \"osm_type\": \"node\",\n",
      "    \"osm_id\": 2280261249,\n",
      "    \"boundingbox\": [\n",
      "        \"38.7581714\",\n",
      "        \"39.0781714\",\n",
      "        \"121.4682945\",\n",
      "        \"121.7882945\"\n",
      "    ],\n",
      "    \"lat\": \"38.9181714\",\n",
      "    \"lon\": \"121.6282945\",\n",
      "    \"display_name\": \"大连市, 中山区, 大连市, 辽宁省, 116011, China 中国\",\n",
      "    \"class\": \"place\",\n",
      "    \"type\": \"city\",\n",
      "    \"importance\": 0.5795411399244903,\n",
      "    \"icon\": \"https://nominatim.openstreetmap.org/images/mapicons/poi_place_city.p.20.png\"\n",
      "}\n"
     ]
    }
   ],
   "source": [
    "print(json.dumps(location.raw,indent=4,ensure_ascii=False))"
   ]
  },
  {
   "cell_type": "code",
   "execution_count": 12,
   "metadata": {},
   "outputs": [
    {
     "name": "stdout",
     "output_type": "stream",
     "text": [
      "38.9181714 121.6282945\n"
     ]
    }
   ],
   "source": [
    "print (location.latitude, location.longitude)"
   ]
  },
  {
   "cell_type": "code",
   "execution_count": 4,
   "metadata": {},
   "outputs": [
    {
     "name": "stdout",
     "output_type": "stream",
     "text": [
      "大连到天安门的直线距离: 462.09653279793 公里\n",
      "大连到天安门的球面距离: 461.06321019174163 公里\n"
     ]
    },
    {
     "name": "stderr",
     "output_type": "stream",
     "text": [
      "/home/jupyterlab/conda/envs/python/lib/python3.6/site-packages/ipykernel_launcher.py:6: DeprecationWarning: Vincenty is deprecated and is going to be removed in geopy 2.0. Use `geopy.distance.geodesic` (or the default `geopy.distance.distance`) instead, which is more accurate and always converges.\n",
      "  \n"
     ]
    }
   ],
   "source": [
    "from geopy.distance import vincenty\n",
    "from geopy.distance import great_circle\n",
    "\n",
    "天安门 = (39.90733345, 116.391244079988)\n",
    "大连 = (38.9122, 121.602)\n",
    "print('大连到天安门的直线距离:',vincenty(天安门, 大连).kilometers,'公里')\n",
    "print('大连到天安门的球面距离:',great_circle(天安门, 大连).kilometers,'公里')"
   ]
  },
  {
   "cell_type": "code",
   "execution_count": 4,
   "metadata": {},
   "outputs": [],
   "source": []
  },
  {
   "cell_type": "code",
   "execution_count": 31,
   "metadata": {},
   "outputs": [],
   "source": [
    "geo_point_creator('Dalian')"
   ]
  },
  {
   "cell_type": "code",
   "execution_count": 23,
   "metadata": {},
   "outputs": [],
   "source": [
    "def seperator(a,b):\n",
    "    c = (b - a)/10\n",
    "    return [round(a,7),round(a+c,7),round(a+c*2,7),round(a+c*3,7),round(a+c*4,7),round(a+c*5,7),round(a+c*6,7),round(a+c*7,7),round(a+c*8,7),round(a+c*9,7),round(b,7)]"
   ]
  },
  {
   "cell_type": "code",
   "execution_count": 30,
   "metadata": {},
   "outputs": [],
   "source": [
    "city_points = {}\n",
    "def geo_point_creator(city):\n",
    "    geolocator = Nominatim(user_agent=\"ny_explorer\")\n",
    "    location = geolocator.geocode(city)\n",
    "    lat_list = seperator(float(location.raw['boundingbox'][0]),float(location.raw['boundingbox'][1]))\n",
    "    lon_list = seperator(float(location.raw['boundingbox'][2]),float(location.raw['boundingbox'][3]))\n",
    "    point_list = []\n",
    "    for lat in lat_list:\n",
    "        for lon in lon_list:\n",
    "            point_list.append([lat,lon])\n",
    "    city_points[city] = point_list"
   ]
  },
  {
   "cell_type": "code",
   "execution_count": 35,
   "metadata": {},
   "outputs": [
    {
     "data": {
      "text/plain": [
       "[38.7581714, 121.4682945]"
      ]
     },
     "execution_count": 35,
     "metadata": {},
     "output_type": "execute_result"
    }
   ],
   "source": [
    "city_points['Dalian'][0]"
   ]
  },
  {
   "cell_type": "code",
   "execution_count": 36,
   "metadata": {},
   "outputs": [
    {
     "data": {
      "text/plain": [
       "[38.7581714, 121.5002945]"
      ]
     },
     "execution_count": 36,
     "metadata": {},
     "output_type": "execute_result"
    }
   ],
   "source": [
    "city_points['Dalian'][1]"
   ]
  },
  {
   "cell_type": "code",
   "execution_count": null,
   "metadata": {},
   "outputs": [],
   "source": []
  }
 ],
 "metadata": {
  "kernelspec": {
   "display_name": "Python",
   "language": "python",
   "name": "conda-env-python-py"
  },
  "language_info": {
   "codemirror_mode": {
    "name": "ipython",
    "version": 3
   },
   "file_extension": ".py",
   "mimetype": "text/x-python",
   "name": "python",
   "nbconvert_exporter": "python",
   "pygments_lexer": "ipython3",
   "version": "3.6.10"
  }
 },
 "nbformat": 4,
 "nbformat_minor": 4
}
